{
 "cells": [
  {
   "cell_type": "code",
   "execution_count": 209,
   "id": "5b2255f1-d665-4f68-9523-787f0f0df3bc",
   "metadata": {},
   "outputs": [],
   "source": [
    "#### step 1 : collecting data "
   ]
  },
  {
   "cell_type": "code",
   "execution_count": 210,
   "id": "205f632b",
   "metadata": {},
   "outputs": [],
   "source": [
    "### ##  Step 2:  Importing libraries\n",
    "import pandas as pd\n",
    "import seaborn as sns\n",
    "from sklearn.preprocessing import Normalizer"
   ]
  },
  {
   "cell_type": "code",
   "execution_count": 211,
   "id": "a5876666",
   "metadata": {},
   "outputs": [],
   "source": [
    "## Step 3: Import the dataset using pandas\n",
    "df=pd.read_csv(\"C:\\\\Users\\\\shrik\\\\Downloads\\\\capstone dentistry\\\\Dentistry Dataset.csv\")"
   ]
  },
  {
   "cell_type": "code",
   "execution_count": 212,
   "id": "ed437df4",
   "metadata": {},
   "outputs": [
    {
     "data": {
      "text/html": [
       "<div>\n",
       "<style scoped>\n",
       "    .dataframe tbody tr th:only-of-type {\n",
       "        vertical-align: middle;\n",
       "    }\n",
       "\n",
       "    .dataframe tbody tr th {\n",
       "        vertical-align: top;\n",
       "    }\n",
       "\n",
       "    .dataframe thead th {\n",
       "        text-align: right;\n",
       "    }\n",
       "</style>\n",
       "<table border=\"1\" class=\"dataframe\">\n",
       "  <thead>\n",
       "    <tr style=\"text-align: right;\">\n",
       "      <th></th>\n",
       "      <th>Sl No</th>\n",
       "      <th>Sample ID</th>\n",
       "      <th>Age</th>\n",
       "      <th>Gender</th>\n",
       "      <th>inter canine distance intraoral</th>\n",
       "      <th>intercanine distance casts</th>\n",
       "      <th>right canine width intraoral</th>\n",
       "      <th>right canine width casts</th>\n",
       "      <th>left canine width intraoral</th>\n",
       "      <th>left canine width casts</th>\n",
       "      <th>right canine index intra oral</th>\n",
       "      <th>right canine index casts</th>\n",
       "      <th>left canine index intraoral</th>\n",
       "      <th>left canine index casts</th>\n",
       "    </tr>\n",
       "  </thead>\n",
       "  <tbody>\n",
       "    <tr>\n",
       "      <th>0</th>\n",
       "      <td>1</td>\n",
       "      <td>NaN</td>\n",
       "      <td>24</td>\n",
       "      <td>Female</td>\n",
       "      <td>25.06</td>\n",
       "      <td>25.05</td>\n",
       "      <td>6.08</td>\n",
       "      <td>6.08</td>\n",
       "      <td>6.09</td>\n",
       "      <td>6.10</td>\n",
       "      <td>0.242</td>\n",
       "      <td>0.242</td>\n",
       "      <td>0.242</td>\n",
       "      <td>0.241</td>\n",
       "    </tr>\n",
       "    <tr>\n",
       "      <th>1</th>\n",
       "      <td>2</td>\n",
       "      <td>NaN</td>\n",
       "      <td>22</td>\n",
       "      <td>Female</td>\n",
       "      <td>25.78</td>\n",
       "      <td>25.79</td>\n",
       "      <td>6.13</td>\n",
       "      <td>6.13</td>\n",
       "      <td>6.33</td>\n",
       "      <td>6.33</td>\n",
       "      <td>0.237</td>\n",
       "      <td>0.237</td>\n",
       "      <td>0.247</td>\n",
       "      <td>0.247</td>\n",
       "    </tr>\n",
       "    <tr>\n",
       "      <th>2</th>\n",
       "      <td>3</td>\n",
       "      <td>NaN</td>\n",
       "      <td>23</td>\n",
       "      <td>Female</td>\n",
       "      <td>23.83</td>\n",
       "      <td>23.83</td>\n",
       "      <td>5.91</td>\n",
       "      <td>5.96</td>\n",
       "      <td>6.28</td>\n",
       "      <td>6.28</td>\n",
       "      <td>0.248</td>\n",
       "      <td>0.248</td>\n",
       "      <td>0.264</td>\n",
       "      <td>0.264</td>\n",
       "    </tr>\n",
       "    <tr>\n",
       "      <th>3</th>\n",
       "      <td>4</td>\n",
       "      <td>NaN</td>\n",
       "      <td>20</td>\n",
       "      <td>Female</td>\n",
       "      <td>26.12</td>\n",
       "      <td>26.12</td>\n",
       "      <td>6.08</td>\n",
       "      <td>6.08</td>\n",
       "      <td>6.56</td>\n",
       "      <td>6.56</td>\n",
       "      <td>0.232</td>\n",
       "      <td>0.232</td>\n",
       "      <td>0.250</td>\n",
       "      <td>0.250</td>\n",
       "    </tr>\n",
       "    <tr>\n",
       "      <th>4</th>\n",
       "      <td>5</td>\n",
       "      <td>NaN</td>\n",
       "      <td>20</td>\n",
       "      <td>Female</td>\n",
       "      <td>26.36</td>\n",
       "      <td>26.41</td>\n",
       "      <td>6.09</td>\n",
       "      <td>6.09</td>\n",
       "      <td>6.50</td>\n",
       "      <td>6.50</td>\n",
       "      <td>0.231</td>\n",
       "      <td>0.231</td>\n",
       "      <td>0.246</td>\n",
       "      <td>0.246</td>\n",
       "    </tr>\n",
       "  </tbody>\n",
       "</table>\n",
       "</div>"
      ],
      "text/plain": [
       "   Sl No  Sample ID  Age  Gender  inter canine distance intraoral  \\\n",
       "0      1        NaN   24  Female                            25.06   \n",
       "1      2        NaN   22  Female                            25.78   \n",
       "2      3        NaN   23  Female                            23.83   \n",
       "3      4        NaN   20  Female                            26.12   \n",
       "4      5        NaN   20  Female                            26.36   \n",
       "\n",
       "   intercanine distance casts  right canine width intraoral  \\\n",
       "0                       25.05                          6.08   \n",
       "1                       25.79                          6.13   \n",
       "2                       23.83                          5.91   \n",
       "3                       26.12                          6.08   \n",
       "4                       26.41                          6.09   \n",
       "\n",
       "   right canine width casts  left canine width intraoral  \\\n",
       "0                      6.08                         6.09   \n",
       "1                      6.13                         6.33   \n",
       "2                      5.96                         6.28   \n",
       "3                      6.08                         6.56   \n",
       "4                      6.09                         6.50   \n",
       "\n",
       "   left canine width casts  right canine index intra oral  \\\n",
       "0                     6.10                          0.242   \n",
       "1                     6.33                          0.237   \n",
       "2                     6.28                          0.248   \n",
       "3                     6.56                          0.232   \n",
       "4                     6.50                          0.231   \n",
       "\n",
       "   right canine index casts  left canine index intraoral  \\\n",
       "0                     0.242                        0.242   \n",
       "1                     0.237                        0.247   \n",
       "2                     0.248                        0.264   \n",
       "3                     0.232                        0.250   \n",
       "4                     0.231                        0.246   \n",
       "\n",
       "   left canine index casts  \n",
       "0                    0.241  \n",
       "1                    0.247  \n",
       "2                    0.264  \n",
       "3                    0.250  \n",
       "4                    0.246  "
      ]
     },
     "execution_count": 212,
     "metadata": {},
     "output_type": "execute_result"
    }
   ],
   "source": [
    "df.head()"
   ]
  },
  {
   "cell_type": "code",
   "execution_count": 213,
   "id": "beb6d00a-3fa3-4d00-8ac7-5bdb7be7c682",
   "metadata": {},
   "outputs": [
    {
     "data": {
      "text/plain": [
       "(1100, 14)"
      ]
     },
     "execution_count": 213,
     "metadata": {},
     "output_type": "execute_result"
    }
   ],
   "source": [
    "df.shape"
   ]
  },
  {
   "cell_type": "code",
   "execution_count": 214,
   "id": "b23824b5",
   "metadata": {},
   "outputs": [],
   "source": [
    "import seaborn as sns"
   ]
  },
  {
   "cell_type": "code",
   "execution_count": 215,
   "id": "de883bf7",
   "metadata": {},
   "outputs": [],
   "source": [
    "import matplotlib.pyplot as plt"
   ]
  },
  {
   "cell_type": "code",
   "execution_count": 216,
   "id": "e936efb5",
   "metadata": {},
   "outputs": [],
   "source": [
    "from sklearn import preprocessing"
   ]
  },
  {
   "cell_type": "code",
   "execution_count": 217,
   "id": "fc1632b1",
   "metadata": {},
   "outputs": [
    {
     "name": "stdout",
     "output_type": "stream",
     "text": [
      "(1100, 14)\n"
     ]
    }
   ],
   "source": [
    "print(df.shape)"
   ]
  },
  {
   "cell_type": "code",
   "execution_count": 218,
   "id": "8a34933f",
   "metadata": {},
   "outputs": [
    {
     "name": "stdout",
     "output_type": "stream",
     "text": [
      "<class 'pandas.core.frame.DataFrame'>\n",
      "RangeIndex: 1100 entries, 0 to 1099\n",
      "Data columns (total 14 columns):\n",
      " #   Column                           Non-Null Count  Dtype  \n",
      "---  ------                           --------------  -----  \n",
      " 0   Sl No                            1100 non-null   int64  \n",
      " 1   Sample ID                        0 non-null      float64\n",
      " 2   Age                              1100 non-null   int64  \n",
      " 3   Gender                           1100 non-null   object \n",
      " 4   inter canine distance intraoral  1100 non-null   float64\n",
      " 5   intercanine distance casts       1100 non-null   float64\n",
      " 6   right canine width intraoral     1100 non-null   float64\n",
      " 7   right canine width casts         1100 non-null   float64\n",
      " 8   left canine width intraoral      1100 non-null   float64\n",
      " 9   left canine width casts          1100 non-null   float64\n",
      " 10  right canine index intra oral    1100 non-null   float64\n",
      " 11  right canine index casts         1100 non-null   float64\n",
      " 12  left canine index intraoral      1100 non-null   float64\n",
      " 13  left canine index casts          1100 non-null   float64\n",
      "dtypes: float64(11), int64(2), object(1)\n",
      "memory usage: 120.4+ KB\n"
     ]
    }
   ],
   "source": [
    "df.info()"
   ]
  },
  {
   "cell_type": "code",
   "execution_count": 219,
   "id": "af203225",
   "metadata": {},
   "outputs": [
    {
     "data": {
      "text/plain": [
       "Sl No                                 0\n",
       "Sample ID                          1100\n",
       "Age                                   0\n",
       "Gender                                0\n",
       "inter canine distance intraoral       0\n",
       "intercanine distance casts            0\n",
       "right canine width intraoral          0\n",
       "right canine width casts              0\n",
       "left canine width intraoral           0\n",
       "left canine width casts               0\n",
       "right canine index intra oral         0\n",
       "right canine index casts              0\n",
       "left canine index intraoral           0\n",
       "left canine index casts               0\n",
       "dtype: int64"
      ]
     },
     "execution_count": 219,
     "metadata": {},
     "output_type": "execute_result"
    }
   ],
   "source": [
    "df.isnull().sum()"
   ]
  },
  {
   "cell_type": "code",
   "execution_count": 220,
   "id": "e383a745",
   "metadata": {},
   "outputs": [],
   "source": [
    "# remove unwanted columns\n",
    "df.drop(['Sample ID','Sl No','Age'], axis = 1 , inplace=True)\n"
   ]
  },
  {
   "cell_type": "code",
   "execution_count": 221,
   "id": "0f02729e-b0ca-45de-b716-1dda8b6042d9",
   "metadata": {},
   "outputs": [
    {
     "data": {
      "text/plain": [
       "Gender                             0.0\n",
       "inter canine distance intraoral    0.0\n",
       "intercanine distance casts         0.0\n",
       "right canine width intraoral       0.0\n",
       "right canine width casts           0.0\n",
       "left canine width intraoral        0.0\n",
       "left canine width casts            0.0\n",
       "right canine index intra oral      0.0\n",
       "right canine index casts           0.0\n",
       "left canine index intraoral        0.0\n",
       "left canine index casts            0.0\n",
       "dtype: float64"
      ]
     },
     "execution_count": 221,
     "metadata": {},
     "output_type": "execute_result"
    }
   ],
   "source": [
    "# zero nuul values in data\n",
    "df.isnull().sum()/df.shape[0]*100"
   ]
  },
  {
   "cell_type": "code",
   "execution_count": 222,
   "id": "0f5c690f",
   "metadata": {},
   "outputs": [
    {
     "name": "stdout",
     "output_type": "stream",
     "text": [
      "<class 'pandas.core.frame.DataFrame'>\n",
      "RangeIndex: 1100 entries, 0 to 1099\n",
      "Data columns (total 11 columns):\n",
      " #   Column                           Non-Null Count  Dtype  \n",
      "---  ------                           --------------  -----  \n",
      " 0   Gender                           1100 non-null   object \n",
      " 1   inter canine distance intraoral  1100 non-null   float64\n",
      " 2   intercanine distance casts       1100 non-null   float64\n",
      " 3   right canine width intraoral     1100 non-null   float64\n",
      " 4   right canine width casts         1100 non-null   float64\n",
      " 5   left canine width intraoral      1100 non-null   float64\n",
      " 6   left canine width casts          1100 non-null   float64\n",
      " 7   right canine index intra oral    1100 non-null   float64\n",
      " 8   right canine index casts         1100 non-null   float64\n",
      " 9   left canine index intraoral      1100 non-null   float64\n",
      " 10  left canine index casts          1100 non-null   float64\n",
      "dtypes: float64(10), object(1)\n",
      "memory usage: 94.7+ KB\n"
     ]
    }
   ],
   "source": [
    "# final data frame with no null and no unwanted data and data type\n",
    "df.info()"
   ]
  },
  {
   "cell_type": "markdown",
   "id": "128ca199",
   "metadata": {},
   "source": [
    "from sklearn.preprocessing import LabelEncoder"
   ]
  },
  {
   "cell_type": "code",
   "execution_count": 223,
   "id": "42dfdb6c",
   "metadata": {},
   "outputs": [],
   "source": [
    "# encoding \n",
    "\n",
    "from sklearn import preprocessing\n",
    "from sklearn.preprocessing import LabelEncoder"
   ]
  },
  {
   "cell_type": "code",
   "execution_count": 224,
   "id": "f4212f30",
   "metadata": {},
   "outputs": [],
   "source": [
    "# encoding in gender column\n",
    "\n",
    "le= LabelEncoder()\n",
    "df[\"Gender\"]=le.fit_transform(df[\"Gender\"])"
   ]
  },
  {
   "cell_type": "code",
   "execution_count": 225,
   "id": "7e388857-0321-43c4-96b4-faa81b567539",
   "metadata": {},
   "outputs": [
    {
     "data": {
      "text/html": [
       "<div>\n",
       "<style scoped>\n",
       "    .dataframe tbody tr th:only-of-type {\n",
       "        vertical-align: middle;\n",
       "    }\n",
       "\n",
       "    .dataframe tbody tr th {\n",
       "        vertical-align: top;\n",
       "    }\n",
       "\n",
       "    .dataframe thead th {\n",
       "        text-align: right;\n",
       "    }\n",
       "</style>\n",
       "<table border=\"1\" class=\"dataframe\">\n",
       "  <thead>\n",
       "    <tr style=\"text-align: right;\">\n",
       "      <th></th>\n",
       "      <th>Gender</th>\n",
       "      <th>inter canine distance intraoral</th>\n",
       "      <th>intercanine distance casts</th>\n",
       "      <th>right canine width intraoral</th>\n",
       "      <th>right canine width casts</th>\n",
       "      <th>left canine width intraoral</th>\n",
       "      <th>left canine width casts</th>\n",
       "      <th>right canine index intra oral</th>\n",
       "      <th>right canine index casts</th>\n",
       "      <th>left canine index intraoral</th>\n",
       "      <th>left canine index casts</th>\n",
       "    </tr>\n",
       "  </thead>\n",
       "  <tbody>\n",
       "    <tr>\n",
       "      <th>0</th>\n",
       "      <td>0</td>\n",
       "      <td>25.06</td>\n",
       "      <td>25.05</td>\n",
       "      <td>6.08</td>\n",
       "      <td>6.08</td>\n",
       "      <td>6.09</td>\n",
       "      <td>6.10</td>\n",
       "      <td>0.242</td>\n",
       "      <td>0.242</td>\n",
       "      <td>0.242</td>\n",
       "      <td>0.241</td>\n",
       "    </tr>\n",
       "    <tr>\n",
       "      <th>1</th>\n",
       "      <td>0</td>\n",
       "      <td>25.78</td>\n",
       "      <td>25.79</td>\n",
       "      <td>6.13</td>\n",
       "      <td>6.13</td>\n",
       "      <td>6.33</td>\n",
       "      <td>6.33</td>\n",
       "      <td>0.237</td>\n",
       "      <td>0.237</td>\n",
       "      <td>0.247</td>\n",
       "      <td>0.247</td>\n",
       "    </tr>\n",
       "    <tr>\n",
       "      <th>2</th>\n",
       "      <td>0</td>\n",
       "      <td>23.83</td>\n",
       "      <td>23.83</td>\n",
       "      <td>5.91</td>\n",
       "      <td>5.96</td>\n",
       "      <td>6.28</td>\n",
       "      <td>6.28</td>\n",
       "      <td>0.248</td>\n",
       "      <td>0.248</td>\n",
       "      <td>0.264</td>\n",
       "      <td>0.264</td>\n",
       "    </tr>\n",
       "    <tr>\n",
       "      <th>3</th>\n",
       "      <td>0</td>\n",
       "      <td>26.12</td>\n",
       "      <td>26.12</td>\n",
       "      <td>6.08</td>\n",
       "      <td>6.08</td>\n",
       "      <td>6.56</td>\n",
       "      <td>6.56</td>\n",
       "      <td>0.232</td>\n",
       "      <td>0.232</td>\n",
       "      <td>0.250</td>\n",
       "      <td>0.250</td>\n",
       "    </tr>\n",
       "    <tr>\n",
       "      <th>4</th>\n",
       "      <td>0</td>\n",
       "      <td>26.36</td>\n",
       "      <td>26.41</td>\n",
       "      <td>6.09</td>\n",
       "      <td>6.09</td>\n",
       "      <td>6.50</td>\n",
       "      <td>6.50</td>\n",
       "      <td>0.231</td>\n",
       "      <td>0.231</td>\n",
       "      <td>0.246</td>\n",
       "      <td>0.246</td>\n",
       "    </tr>\n",
       "    <tr>\n",
       "      <th>...</th>\n",
       "      <td>...</td>\n",
       "      <td>...</td>\n",
       "      <td>...</td>\n",
       "      <td>...</td>\n",
       "      <td>...</td>\n",
       "      <td>...</td>\n",
       "      <td>...</td>\n",
       "      <td>...</td>\n",
       "      <td>...</td>\n",
       "      <td>...</td>\n",
       "      <td>...</td>\n",
       "    </tr>\n",
       "    <tr>\n",
       "      <th>1095</th>\n",
       "      <td>1</td>\n",
       "      <td>24.29</td>\n",
       "      <td>24.29</td>\n",
       "      <td>6.58</td>\n",
       "      <td>6.58</td>\n",
       "      <td>6.60</td>\n",
       "      <td>6.60</td>\n",
       "      <td>0.271</td>\n",
       "      <td>0.271</td>\n",
       "      <td>0.272</td>\n",
       "      <td>0.272</td>\n",
       "    </tr>\n",
       "    <tr>\n",
       "      <th>1096</th>\n",
       "      <td>1</td>\n",
       "      <td>25.22</td>\n",
       "      <td>25.22</td>\n",
       "      <td>6.70</td>\n",
       "      <td>6.70</td>\n",
       "      <td>6.80</td>\n",
       "      <td>6.80</td>\n",
       "      <td>0.265</td>\n",
       "      <td>0.265</td>\n",
       "      <td>0.269</td>\n",
       "      <td>0.269</td>\n",
       "    </tr>\n",
       "    <tr>\n",
       "      <th>1097</th>\n",
       "      <td>1</td>\n",
       "      <td>24.24</td>\n",
       "      <td>24.24</td>\n",
       "      <td>6.60</td>\n",
       "      <td>6.60</td>\n",
       "      <td>6.61</td>\n",
       "      <td>6.61</td>\n",
       "      <td>0.272</td>\n",
       "      <td>0.272</td>\n",
       "      <td>0.272</td>\n",
       "      <td>0.272</td>\n",
       "    </tr>\n",
       "    <tr>\n",
       "      <th>1098</th>\n",
       "      <td>1</td>\n",
       "      <td>24.87</td>\n",
       "      <td>24.87</td>\n",
       "      <td>6.57</td>\n",
       "      <td>6.57</td>\n",
       "      <td>6.66</td>\n",
       "      <td>6.66</td>\n",
       "      <td>0.264</td>\n",
       "      <td>0.264</td>\n",
       "      <td>0.267</td>\n",
       "      <td>0.267</td>\n",
       "    </tr>\n",
       "    <tr>\n",
       "      <th>1099</th>\n",
       "      <td>1</td>\n",
       "      <td>24.51</td>\n",
       "      <td>24.51</td>\n",
       "      <td>6.36</td>\n",
       "      <td>6.36</td>\n",
       "      <td>6.78</td>\n",
       "      <td>6.78</td>\n",
       "      <td>0.259</td>\n",
       "      <td>0.259</td>\n",
       "      <td>0.276</td>\n",
       "      <td>0.276</td>\n",
       "    </tr>\n",
       "  </tbody>\n",
       "</table>\n",
       "<p>1100 rows × 11 columns</p>\n",
       "</div>"
      ],
      "text/plain": [
       "      Gender  inter canine distance intraoral  intercanine distance casts  \\\n",
       "0          0                            25.06                       25.05   \n",
       "1          0                            25.78                       25.79   \n",
       "2          0                            23.83                       23.83   \n",
       "3          0                            26.12                       26.12   \n",
       "4          0                            26.36                       26.41   \n",
       "...      ...                              ...                         ...   \n",
       "1095       1                            24.29                       24.29   \n",
       "1096       1                            25.22                       25.22   \n",
       "1097       1                            24.24                       24.24   \n",
       "1098       1                            24.87                       24.87   \n",
       "1099       1                            24.51                       24.51   \n",
       "\n",
       "      right canine width intraoral  right canine width casts  \\\n",
       "0                             6.08                      6.08   \n",
       "1                             6.13                      6.13   \n",
       "2                             5.91                      5.96   \n",
       "3                             6.08                      6.08   \n",
       "4                             6.09                      6.09   \n",
       "...                            ...                       ...   \n",
       "1095                          6.58                      6.58   \n",
       "1096                          6.70                      6.70   \n",
       "1097                          6.60                      6.60   \n",
       "1098                          6.57                      6.57   \n",
       "1099                          6.36                      6.36   \n",
       "\n",
       "      left canine width intraoral  left canine width casts  \\\n",
       "0                            6.09                     6.10   \n",
       "1                            6.33                     6.33   \n",
       "2                            6.28                     6.28   \n",
       "3                            6.56                     6.56   \n",
       "4                            6.50                     6.50   \n",
       "...                           ...                      ...   \n",
       "1095                         6.60                     6.60   \n",
       "1096                         6.80                     6.80   \n",
       "1097                         6.61                     6.61   \n",
       "1098                         6.66                     6.66   \n",
       "1099                         6.78                     6.78   \n",
       "\n",
       "      right canine index intra oral  right canine index casts  \\\n",
       "0                             0.242                     0.242   \n",
       "1                             0.237                     0.237   \n",
       "2                             0.248                     0.248   \n",
       "3                             0.232                     0.232   \n",
       "4                             0.231                     0.231   \n",
       "...                             ...                       ...   \n",
       "1095                          0.271                     0.271   \n",
       "1096                          0.265                     0.265   \n",
       "1097                          0.272                     0.272   \n",
       "1098                          0.264                     0.264   \n",
       "1099                          0.259                     0.259   \n",
       "\n",
       "      left canine index intraoral  left canine index casts  \n",
       "0                           0.242                    0.241  \n",
       "1                           0.247                    0.247  \n",
       "2                           0.264                    0.264  \n",
       "3                           0.250                    0.250  \n",
       "4                           0.246                    0.246  \n",
       "...                           ...                      ...  \n",
       "1095                        0.272                    0.272  \n",
       "1096                        0.269                    0.269  \n",
       "1097                        0.272                    0.272  \n",
       "1098                        0.267                    0.267  \n",
       "1099                        0.276                    0.276  \n",
       "\n",
       "[1100 rows x 11 columns]"
      ]
     },
     "execution_count": 225,
     "metadata": {},
     "output_type": "execute_result"
    }
   ],
   "source": [
    "df"
   ]
  },
  {
   "cell_type": "code",
   "execution_count": 226,
   "id": "f8d0d21c-5a7e-4436-afa9-76085fdac169",
   "metadata": {},
   "outputs": [
    {
     "data": {
      "text/html": [
       "<div>\n",
       "<style scoped>\n",
       "    .dataframe tbody tr th:only-of-type {\n",
       "        vertical-align: middle;\n",
       "    }\n",
       "\n",
       "    .dataframe tbody tr th {\n",
       "        vertical-align: top;\n",
       "    }\n",
       "\n",
       "    .dataframe thead th {\n",
       "        text-align: right;\n",
       "    }\n",
       "</style>\n",
       "<table border=\"1\" class=\"dataframe\">\n",
       "  <thead>\n",
       "    <tr style=\"text-align: right;\">\n",
       "      <th></th>\n",
       "      <th>Gender</th>\n",
       "      <th>inter canine distance intraoral</th>\n",
       "      <th>intercanine distance casts</th>\n",
       "      <th>right canine width intraoral</th>\n",
       "      <th>right canine width casts</th>\n",
       "      <th>left canine width intraoral</th>\n",
       "      <th>left canine width casts</th>\n",
       "      <th>right canine index intra oral</th>\n",
       "      <th>right canine index casts</th>\n",
       "      <th>left canine index intraoral</th>\n",
       "      <th>left canine index casts</th>\n",
       "    </tr>\n",
       "  </thead>\n",
       "  <tbody>\n",
       "    <tr>\n",
       "      <th>0</th>\n",
       "      <td>0</td>\n",
       "      <td>25.06</td>\n",
       "      <td>25.05</td>\n",
       "      <td>6.08</td>\n",
       "      <td>6.08</td>\n",
       "      <td>6.09</td>\n",
       "      <td>6.10</td>\n",
       "      <td>0.242</td>\n",
       "      <td>0.242</td>\n",
       "      <td>0.242</td>\n",
       "      <td>0.241</td>\n",
       "    </tr>\n",
       "    <tr>\n",
       "      <th>1</th>\n",
       "      <td>0</td>\n",
       "      <td>25.78</td>\n",
       "      <td>25.79</td>\n",
       "      <td>6.13</td>\n",
       "      <td>6.13</td>\n",
       "      <td>6.33</td>\n",
       "      <td>6.33</td>\n",
       "      <td>0.237</td>\n",
       "      <td>0.237</td>\n",
       "      <td>0.247</td>\n",
       "      <td>0.247</td>\n",
       "    </tr>\n",
       "    <tr>\n",
       "      <th>2</th>\n",
       "      <td>0</td>\n",
       "      <td>23.83</td>\n",
       "      <td>23.83</td>\n",
       "      <td>5.91</td>\n",
       "      <td>5.96</td>\n",
       "      <td>6.28</td>\n",
       "      <td>6.28</td>\n",
       "      <td>0.248</td>\n",
       "      <td>0.248</td>\n",
       "      <td>0.264</td>\n",
       "      <td>0.264</td>\n",
       "    </tr>\n",
       "    <tr>\n",
       "      <th>3</th>\n",
       "      <td>0</td>\n",
       "      <td>26.12</td>\n",
       "      <td>26.12</td>\n",
       "      <td>6.08</td>\n",
       "      <td>6.08</td>\n",
       "      <td>6.56</td>\n",
       "      <td>6.56</td>\n",
       "      <td>0.232</td>\n",
       "      <td>0.232</td>\n",
       "      <td>0.250</td>\n",
       "      <td>0.250</td>\n",
       "    </tr>\n",
       "    <tr>\n",
       "      <th>4</th>\n",
       "      <td>0</td>\n",
       "      <td>26.36</td>\n",
       "      <td>26.41</td>\n",
       "      <td>6.09</td>\n",
       "      <td>6.09</td>\n",
       "      <td>6.50</td>\n",
       "      <td>6.50</td>\n",
       "      <td>0.231</td>\n",
       "      <td>0.231</td>\n",
       "      <td>0.246</td>\n",
       "      <td>0.246</td>\n",
       "    </tr>\n",
       "  </tbody>\n",
       "</table>\n",
       "</div>"
      ],
      "text/plain": [
       "   Gender  inter canine distance intraoral  intercanine distance casts  \\\n",
       "0       0                            25.06                       25.05   \n",
       "1       0                            25.78                       25.79   \n",
       "2       0                            23.83                       23.83   \n",
       "3       0                            26.12                       26.12   \n",
       "4       0                            26.36                       26.41   \n",
       "\n",
       "   right canine width intraoral  right canine width casts  \\\n",
       "0                          6.08                      6.08   \n",
       "1                          6.13                      6.13   \n",
       "2                          5.91                      5.96   \n",
       "3                          6.08                      6.08   \n",
       "4                          6.09                      6.09   \n",
       "\n",
       "   left canine width intraoral  left canine width casts  \\\n",
       "0                         6.09                     6.10   \n",
       "1                         6.33                     6.33   \n",
       "2                         6.28                     6.28   \n",
       "3                         6.56                     6.56   \n",
       "4                         6.50                     6.50   \n",
       "\n",
       "   right canine index intra oral  right canine index casts  \\\n",
       "0                          0.242                     0.242   \n",
       "1                          0.237                     0.237   \n",
       "2                          0.248                     0.248   \n",
       "3                          0.232                     0.232   \n",
       "4                          0.231                     0.231   \n",
       "\n",
       "   left canine index intraoral  left canine index casts  \n",
       "0                        0.242                    0.241  \n",
       "1                        0.247                    0.247  \n",
       "2                        0.264                    0.264  \n",
       "3                        0.250                    0.250  \n",
       "4                        0.246                    0.246  "
      ]
     },
     "execution_count": 226,
     "metadata": {},
     "output_type": "execute_result"
    }
   ],
   "source": [
    "df.head()"
   ]
  },
  {
   "cell_type": "code",
   "execution_count": 227,
   "id": "8c6e0921",
   "metadata": {},
   "outputs": [
    {
     "data": {
      "text/html": [
       "<div>\n",
       "<style scoped>\n",
       "    .dataframe tbody tr th:only-of-type {\n",
       "        vertical-align: middle;\n",
       "    }\n",
       "\n",
       "    .dataframe tbody tr th {\n",
       "        vertical-align: top;\n",
       "    }\n",
       "\n",
       "    .dataframe thead th {\n",
       "        text-align: right;\n",
       "    }\n",
       "</style>\n",
       "<table border=\"1\" class=\"dataframe\">\n",
       "  <thead>\n",
       "    <tr style=\"text-align: right;\">\n",
       "      <th></th>\n",
       "      <th>Gender</th>\n",
       "      <th>inter canine distance intraoral</th>\n",
       "      <th>intercanine distance casts</th>\n",
       "      <th>right canine width intraoral</th>\n",
       "      <th>right canine width casts</th>\n",
       "      <th>left canine width intraoral</th>\n",
       "      <th>left canine width casts</th>\n",
       "      <th>right canine index intra oral</th>\n",
       "      <th>right canine index casts</th>\n",
       "      <th>left canine index intraoral</th>\n",
       "      <th>left canine index casts</th>\n",
       "    </tr>\n",
       "  </thead>\n",
       "  <tbody>\n",
       "    <tr>\n",
       "      <th>1095</th>\n",
       "      <td>1</td>\n",
       "      <td>24.29</td>\n",
       "      <td>24.29</td>\n",
       "      <td>6.58</td>\n",
       "      <td>6.58</td>\n",
       "      <td>6.60</td>\n",
       "      <td>6.60</td>\n",
       "      <td>0.271</td>\n",
       "      <td>0.271</td>\n",
       "      <td>0.272</td>\n",
       "      <td>0.272</td>\n",
       "    </tr>\n",
       "    <tr>\n",
       "      <th>1096</th>\n",
       "      <td>1</td>\n",
       "      <td>25.22</td>\n",
       "      <td>25.22</td>\n",
       "      <td>6.70</td>\n",
       "      <td>6.70</td>\n",
       "      <td>6.80</td>\n",
       "      <td>6.80</td>\n",
       "      <td>0.265</td>\n",
       "      <td>0.265</td>\n",
       "      <td>0.269</td>\n",
       "      <td>0.269</td>\n",
       "    </tr>\n",
       "    <tr>\n",
       "      <th>1097</th>\n",
       "      <td>1</td>\n",
       "      <td>24.24</td>\n",
       "      <td>24.24</td>\n",
       "      <td>6.60</td>\n",
       "      <td>6.60</td>\n",
       "      <td>6.61</td>\n",
       "      <td>6.61</td>\n",
       "      <td>0.272</td>\n",
       "      <td>0.272</td>\n",
       "      <td>0.272</td>\n",
       "      <td>0.272</td>\n",
       "    </tr>\n",
       "    <tr>\n",
       "      <th>1098</th>\n",
       "      <td>1</td>\n",
       "      <td>24.87</td>\n",
       "      <td>24.87</td>\n",
       "      <td>6.57</td>\n",
       "      <td>6.57</td>\n",
       "      <td>6.66</td>\n",
       "      <td>6.66</td>\n",
       "      <td>0.264</td>\n",
       "      <td>0.264</td>\n",
       "      <td>0.267</td>\n",
       "      <td>0.267</td>\n",
       "    </tr>\n",
       "    <tr>\n",
       "      <th>1099</th>\n",
       "      <td>1</td>\n",
       "      <td>24.51</td>\n",
       "      <td>24.51</td>\n",
       "      <td>6.36</td>\n",
       "      <td>6.36</td>\n",
       "      <td>6.78</td>\n",
       "      <td>6.78</td>\n",
       "      <td>0.259</td>\n",
       "      <td>0.259</td>\n",
       "      <td>0.276</td>\n",
       "      <td>0.276</td>\n",
       "    </tr>\n",
       "  </tbody>\n",
       "</table>\n",
       "</div>"
      ],
      "text/plain": [
       "      Gender  inter canine distance intraoral  intercanine distance casts  \\\n",
       "1095       1                            24.29                       24.29   \n",
       "1096       1                            25.22                       25.22   \n",
       "1097       1                            24.24                       24.24   \n",
       "1098       1                            24.87                       24.87   \n",
       "1099       1                            24.51                       24.51   \n",
       "\n",
       "      right canine width intraoral  right canine width casts  \\\n",
       "1095                          6.58                      6.58   \n",
       "1096                          6.70                      6.70   \n",
       "1097                          6.60                      6.60   \n",
       "1098                          6.57                      6.57   \n",
       "1099                          6.36                      6.36   \n",
       "\n",
       "      left canine width intraoral  left canine width casts  \\\n",
       "1095                         6.60                     6.60   \n",
       "1096                         6.80                     6.80   \n",
       "1097                         6.61                     6.61   \n",
       "1098                         6.66                     6.66   \n",
       "1099                         6.78                     6.78   \n",
       "\n",
       "      right canine index intra oral  right canine index casts  \\\n",
       "1095                          0.271                     0.271   \n",
       "1096                          0.265                     0.265   \n",
       "1097                          0.272                     0.272   \n",
       "1098                          0.264                     0.264   \n",
       "1099                          0.259                     0.259   \n",
       "\n",
       "      left canine index intraoral  left canine index casts  \n",
       "1095                        0.272                    0.272  \n",
       "1096                        0.269                    0.269  \n",
       "1097                        0.272                    0.272  \n",
       "1098                        0.267                    0.267  \n",
       "1099                        0.276                    0.276  "
      ]
     },
     "execution_count": 227,
     "metadata": {},
     "output_type": "execute_result"
    }
   ],
   "source": [
    "df.tail()"
   ]
  },
  {
   "cell_type": "code",
   "execution_count": 228,
   "id": "f1c90fef",
   "metadata": {},
   "outputs": [
    {
     "data": {
      "text/plain": [
       "<Axes: ylabel='count'>"
      ]
     },
     "execution_count": 228,
     "metadata": {},
     "output_type": "execute_result"
    },
    {
     "data": {
      "image/png": "[encoded data removed]",
      "text/plain": [
       "<Figure size 640x480 with 1 Axes>"
      ]
     },
     "metadata": {},
     "output_type": "display_data"
    }
   ],
   "source": [
    "sns.countplot(df[\"Gender\"])"
   ]
  },
  {
   "cell_type": "code",
   "execution_count": 229,
   "id": "30203b03",
   "metadata": {},
   "outputs": [
    {
     "name": "stdout",
     "output_type": "stream",
     "text": [
      "left canine width casts\n",
      "6.72    18\n",
      "6.70    16\n",
      "6.73    16\n",
      "6.78    16\n",
      "6.65    16\n",
      "        ..\n",
      "7.04     1\n",
      "5.48     1\n",
      "5.69     1\n",
      "7.75     1\n",
      "7.15     1\n",
      "Name: count, Length: 172, dtype: int64\n"
     ]
    }
   ],
   "source": [
    "print(df[\"left canine width casts\"].value_counts())"
   ]
  },
  {
   "cell_type": "code",
   "execution_count": 230,
   "id": "bd35dbba",
   "metadata": {},
   "outputs": [],
   "source": [
    "#x=df.iloc[:,1:11]\n",
    "#y=df.iloc[:,0]"
   ]
  },
  {
   "cell_type": "code",
   "execution_count": 231,
   "id": "753c44b6",
   "metadata": {},
   "outputs": [
    {
     "data": {
      "text/plain": [
       "<Axes: >"
      ]
     },
     "execution_count": 231,
     "metadata": {},
     "output_type": "execute_result"
    },
    {
     "data": {
      "image/png": "[encoded data removed]",
      "text/plain": [
       "<Figure size 700x600 with 2 Axes>"
      ]
     },
     "metadata": {},
     "output_type": "display_data"
    }
   ],
   "source": [
    "plt.figure(figsize=(7,6))\n",
    "cor = df.corr()\n",
    "sns.heatmap(cor,annot=True,cmap='coolwarm',fmt='.0%')"
   ]
  },
  {
   "cell_type": "code",
   "execution_count": 232,
   "id": "4a9c8a60",
   "metadata": {},
   "outputs": [],
   "source": [
    "\n",
    "x=df[[\"inter canine distance intraoral\" ,\"intercanine distance casts\" ,\n",
    "      \"right canine width intraoral\",\"right canine width casts\",\n",
    "      \"left canine width intraoral\",\"left canine width casts\",\n",
    "      \"right canine index intra oral\",\"right canine index casts\",\n",
    "      \"left canine index intraoral\",\"left canine index casts\"]]\n",
    "\n",
    "y=df[[\"Gender\"]]\n"
   ]
  },
  {
   "cell_type": "code",
   "execution_count": 233,
   "id": "ff8d3d11",
   "metadata": {},
   "outputs": [],
   "source": [
    "# Normalizer\n",
    "\n",
    "norm= Normalizer()\n",
    "norm= Normalizer().fit(x)\n"
   ]
  },
  {
   "cell_type": "code",
   "execution_count": 234,
   "id": "aef3c4b4",
   "metadata": {},
   "outputs": [
    {
     "data": {
      "text/plain": [
       "array([[0.66880888, 0.668542  , 0.16226488, ..., 0.00645857, 0.00645857,\n",
       "        0.00643188],\n",
       "       [0.66893188, 0.66919136, 0.15905944, ..., 0.00614961, 0.00640908,\n",
       "        0.00640908],\n",
       "       [0.66468714, 0.66468714, 0.16484687, ..., 0.00691743, 0.00736372,\n",
       "        0.00736372],\n",
       "       ...,\n",
       "       [0.65974015, 0.65974015, 0.17963222, ..., 0.00740302, 0.00740302,\n",
       "        0.00740302],\n",
       "       [0.66176467, 0.66176467, 0.17482082, ..., 0.00702476, 0.00710459,\n",
       "        0.00710459],\n",
       "       [0.66108106, 0.66108106, 0.17154123, ..., 0.00698572, 0.00744424,\n",
       "        0.00744424]])"
      ]
     },
     "execution_count": 234,
     "metadata": {},
     "output_type": "execute_result"
    }
   ],
   "source": [
    "norm.transform(x)"
   ]
  },
  {
   "cell_type": "code",
   "execution_count": 235,
   "id": "feef0ede-5be9-4fcd-8c77-0f03dd59e946",
   "metadata": {},
   "outputs": [],
   "source": [
    "# exploratory data analysis"
   ]
  },
  {
   "cell_type": "code",
   "execution_count": 236,
   "id": "30586219",
   "metadata": {},
   "outputs": [
    {
     "data": {
      "text/html": [
       "<div>\n",
       "<style scoped>\n",
       "    .dataframe tbody tr th:only-of-type {\n",
       "        vertical-align: middle;\n",
       "    }\n",
       "\n",
       "    .dataframe tbody tr th {\n",
       "        vertical-align: top;\n",
       "    }\n",
       "\n",
       "    .dataframe thead th {\n",
       "        text-align: right;\n",
       "    }\n",
       "</style>\n",
       "<table border=\"1\" class=\"dataframe\">\n",
       "  <thead>\n",
       "    <tr style=\"text-align: right;\">\n",
       "      <th></th>\n",
       "      <th>inter canine distance intraoral</th>\n",
       "      <th>intercanine distance casts</th>\n",
       "      <th>right canine width intraoral</th>\n",
       "      <th>right canine width casts</th>\n",
       "      <th>left canine width intraoral</th>\n",
       "      <th>left canine width casts</th>\n",
       "      <th>right canine index intra oral</th>\n",
       "      <th>right canine index casts</th>\n",
       "      <th>left canine index intraoral</th>\n",
       "      <th>left canine index casts</th>\n",
       "    </tr>\n",
       "  </thead>\n",
       "  <tbody>\n",
       "    <tr>\n",
       "      <th>inter canine distance intraoral</th>\n",
       "      <td>1.000000</td>\n",
       "      <td>0.755648</td>\n",
       "      <td>0.564793</td>\n",
       "      <td>0.566652</td>\n",
       "      <td>0.601423</td>\n",
       "      <td>0.590075</td>\n",
       "      <td>-0.382836</td>\n",
       "      <td>-0.352744</td>\n",
       "      <td>-0.343861</td>\n",
       "      <td>-0.338299</td>\n",
       "    </tr>\n",
       "    <tr>\n",
       "      <th>intercanine distance casts</th>\n",
       "      <td>0.755648</td>\n",
       "      <td>1.000000</td>\n",
       "      <td>0.400577</td>\n",
       "      <td>0.402120</td>\n",
       "      <td>0.435529</td>\n",
       "      <td>0.357952</td>\n",
       "      <td>-0.308260</td>\n",
       "      <td>-0.297661</td>\n",
       "      <td>-0.283392</td>\n",
       "      <td>-0.279846</td>\n",
       "    </tr>\n",
       "    <tr>\n",
       "      <th>right canine width intraoral</th>\n",
       "      <td>0.564793</td>\n",
       "      <td>0.400577</td>\n",
       "      <td>1.000000</td>\n",
       "      <td>0.999832</td>\n",
       "      <td>0.941932</td>\n",
       "      <td>0.937016</td>\n",
       "      <td>0.434863</td>\n",
       "      <td>0.570471</td>\n",
       "      <td>0.506583</td>\n",
       "      <td>0.510783</td>\n",
       "    </tr>\n",
       "    <tr>\n",
       "      <th>right canine width casts</th>\n",
       "      <td>0.566652</td>\n",
       "      <td>0.402120</td>\n",
       "      <td>0.999832</td>\n",
       "      <td>1.000000</td>\n",
       "      <td>0.943088</td>\n",
       "      <td>0.938069</td>\n",
       "      <td>0.432951</td>\n",
       "      <td>0.568764</td>\n",
       "      <td>0.506022</td>\n",
       "      <td>0.510247</td>\n",
       "    </tr>\n",
       "    <tr>\n",
       "      <th>left canine width intraoral</th>\n",
       "      <td>0.601423</td>\n",
       "      <td>0.435529</td>\n",
       "      <td>0.941932</td>\n",
       "      <td>0.943088</td>\n",
       "      <td>1.000000</td>\n",
       "      <td>0.994120</td>\n",
       "      <td>0.341201</td>\n",
       "      <td>0.473677</td>\n",
       "      <td>0.540797</td>\n",
       "      <td>0.545525</td>\n",
       "    </tr>\n",
       "    <tr>\n",
       "      <th>left canine width casts</th>\n",
       "      <td>0.590075</td>\n",
       "      <td>0.357952</td>\n",
       "      <td>0.937016</td>\n",
       "      <td>0.938069</td>\n",
       "      <td>0.994120</td>\n",
       "      <td>1.000000</td>\n",
       "      <td>0.346256</td>\n",
       "      <td>0.479567</td>\n",
       "      <td>0.546163</td>\n",
       "      <td>0.551036</td>\n",
       "    </tr>\n",
       "    <tr>\n",
       "      <th>right canine index intra oral</th>\n",
       "      <td>-0.382836</td>\n",
       "      <td>-0.308260</td>\n",
       "      <td>0.434863</td>\n",
       "      <td>0.432951</td>\n",
       "      <td>0.341201</td>\n",
       "      <td>0.346256</td>\n",
       "      <td>1.000000</td>\n",
       "      <td>0.876839</td>\n",
       "      <td>0.799557</td>\n",
       "      <td>0.798836</td>\n",
       "    </tr>\n",
       "    <tr>\n",
       "      <th>right canine index casts</th>\n",
       "      <td>-0.352744</td>\n",
       "      <td>-0.297661</td>\n",
       "      <td>0.570471</td>\n",
       "      <td>0.568764</td>\n",
       "      <td>0.473677</td>\n",
       "      <td>0.479567</td>\n",
       "      <td>0.876839</td>\n",
       "      <td>1.000000</td>\n",
       "      <td>0.922306</td>\n",
       "      <td>0.921592</td>\n",
       "    </tr>\n",
       "    <tr>\n",
       "      <th>left canine index intraoral</th>\n",
       "      <td>-0.343861</td>\n",
       "      <td>-0.283392</td>\n",
       "      <td>0.506583</td>\n",
       "      <td>0.506022</td>\n",
       "      <td>0.540797</td>\n",
       "      <td>0.546163</td>\n",
       "      <td>0.799557</td>\n",
       "      <td>0.922306</td>\n",
       "      <td>1.000000</td>\n",
       "      <td>0.999323</td>\n",
       "    </tr>\n",
       "    <tr>\n",
       "      <th>left canine index casts</th>\n",
       "      <td>-0.338299</td>\n",
       "      <td>-0.279846</td>\n",
       "      <td>0.510783</td>\n",
       "      <td>0.510247</td>\n",
       "      <td>0.545525</td>\n",
       "      <td>0.551036</td>\n",
       "      <td>0.798836</td>\n",
       "      <td>0.921592</td>\n",
       "      <td>0.999323</td>\n",
       "      <td>1.000000</td>\n",
       "    </tr>\n",
       "  </tbody>\n",
       "</table>\n",
       "</div>"
      ],
      "text/plain": [
       "                                 inter canine distance intraoral  \\\n",
       "inter canine distance intraoral                         1.000000   \n",
       "intercanine distance casts                              0.755648   \n",
       "right canine width intraoral                            0.564793   \n",
       "right canine width casts                                0.566652   \n",
       "left canine width intraoral                             0.601423   \n",
       "left canine width casts                                 0.590075   \n",
       "right canine index intra oral                          -0.382836   \n",
       "right canine index casts                               -0.352744   \n",
       "left canine index intraoral                            -0.343861   \n",
       "left canine index casts                                -0.338299   \n",
       "\n",
       "                                 intercanine distance casts  \\\n",
       "inter canine distance intraoral                    0.755648   \n",
       "intercanine distance casts                         1.000000   \n",
       "right canine width intraoral                       0.400577   \n",
       "right canine width casts                           0.402120   \n",
       "left canine width intraoral                        0.435529   \n",
       "left canine width casts                            0.357952   \n",
       "right canine index intra oral                     -0.308260   \n",
       "right canine index casts                          -0.297661   \n",
       "left canine index intraoral                       -0.283392   \n",
       "left canine index casts                           -0.279846   \n",
       "\n",
       "                                 right canine width intraoral  \\\n",
       "inter canine distance intraoral                      0.564793   \n",
       "intercanine distance casts                           0.400577   \n",
       "right canine width intraoral                         1.000000   \n",
       "right canine width casts                             0.999832   \n",
       "left canine width intraoral                          0.941932   \n",
       "left canine width casts                              0.937016   \n",
       "right canine index intra oral                        0.434863   \n",
       "right canine index casts                             0.570471   \n",
       "left canine index intraoral                          0.506583   \n",
       "left canine index casts                              0.510783   \n",
       "\n",
       "                                 right canine width casts  \\\n",
       "inter canine distance intraoral                  0.566652   \n",
       "intercanine distance casts                       0.402120   \n",
       "right canine width intraoral                     0.999832   \n",
       "right canine width casts                         1.000000   \n",
       "left canine width intraoral                      0.943088   \n",
       "left canine width casts                          0.938069   \n",
       "right canine index intra oral                    0.432951   \n",
       "right canine index casts                         0.568764   \n",
       "left canine index intraoral                      0.506022   \n",
       "left canine index casts                          0.510247   \n",
       "\n",
       "                                 left canine width intraoral  \\\n",
       "inter canine distance intraoral                     0.601423   \n",
       "intercanine distance casts                          0.435529   \n",
       "right canine width intraoral                        0.941932   \n",
       "right canine width casts                            0.943088   \n",
       "left canine width intraoral                         1.000000   \n",
       "left canine width casts                             0.994120   \n",
       "right canine index intra oral                       0.341201   \n",
       "right canine index casts                            0.473677   \n",
       "left canine index intraoral                         0.540797   \n",
       "left canine index casts                             0.545525   \n",
       "\n",
       "                                 left canine width casts  \\\n",
       "inter canine distance intraoral                 0.590075   \n",
       "intercanine distance casts                      0.357952   \n",
       "right canine width intraoral                    0.937016   \n",
       "right canine width casts                        0.938069   \n",
       "left canine width intraoral                     0.994120   \n",
       "left canine width casts                         1.000000   \n",
       "right canine index intra oral                   0.346256   \n",
       "right canine index casts                        0.479567   \n",
       "left canine index intraoral                     0.546163   \n",
       "left canine index casts                         0.551036   \n",
       "\n",
       "                                 right canine index intra oral  \\\n",
       "inter canine distance intraoral                      -0.382836   \n",
       "intercanine distance casts                           -0.308260   \n",
       "right canine width intraoral                          0.434863   \n",
       "right canine width casts                              0.432951   \n",
       "left canine width intraoral                           0.341201   \n",
       "left canine width casts                               0.346256   \n",
       "right canine index intra oral                         1.000000   \n",
       "right canine index casts                              0.876839   \n",
       "left canine index intraoral                           0.799557   \n",
       "left canine index casts                               0.798836   \n",
       "\n",
       "                                 right canine index casts  \\\n",
       "inter canine distance intraoral                 -0.352744   \n",
       "intercanine distance casts                      -0.297661   \n",
       "right canine width intraoral                     0.570471   \n",
       "right canine width casts                         0.568764   \n",
       "left canine width intraoral                      0.473677   \n",
       "left canine width casts                          0.479567   \n",
       "right canine index intra oral                    0.876839   \n",
       "right canine index casts                         1.000000   \n",
       "left canine index intraoral                      0.922306   \n",
       "left canine index casts                          0.921592   \n",
       "\n",
       "                                 left canine index intraoral  \\\n",
       "inter canine distance intraoral                    -0.343861   \n",
       "intercanine distance casts                         -0.283392   \n",
       "right canine width intraoral                        0.506583   \n",
       "right canine width casts                            0.506022   \n",
       "left canine width intraoral                         0.540797   \n",
       "left canine width casts                             0.546163   \n",
       "right canine index intra oral                       0.799557   \n",
       "right canine index casts                            0.922306   \n",
       "left canine index intraoral                         1.000000   \n",
       "left canine index casts                             0.999323   \n",
       "\n",
       "                                 left canine index casts  \n",
       "inter canine distance intraoral                -0.338299  \n",
       "intercanine distance casts                     -0.279846  \n",
       "right canine width intraoral                    0.510783  \n",
       "right canine width casts                        0.510247  \n",
       "left canine width intraoral                     0.545525  \n",
       "left canine width casts                         0.551036  \n",
       "right canine index intra oral                   0.798836  \n",
       "right canine index casts                        0.921592  \n",
       "left canine index intraoral                     0.999323  \n",
       "left canine index casts                         1.000000  "
      ]
     },
     "execution_count": 236,
     "metadata": {},
     "output_type": "execute_result"
    }
   ],
   "source": [
    "x.corr()"
   ]
  },
  {
   "cell_type": "code",
   "execution_count": 237,
   "id": "81db559d",
   "metadata": {},
   "outputs": [
    {
     "data": {
      "image/png": "[encoded data removed]",
      "text/plain": [
       "<Figure size 700x500 with 2 Axes>"
      ]
     },
     "metadata": {},
     "output_type": "display_data"
    }
   ],
   "source": [
    "plt.figure(figsize=(7,5))\n",
    "cor= x.corr()\n",
    "sns.heatmap(cor,annot=True,cmap='coolwarm',fmt='.0%')\n",
    "plt.show()"
   ]
  },
  {
   "cell_type": "code",
   "execution_count": 238,
   "id": "41eb82ed-2302-4210-a7e4-3d3727fe9e30",
   "metadata": {},
   "outputs": [],
   "source": [
    "### model building"
   ]
  },
  {
   "cell_type": "code",
   "execution_count": 239,
   "id": "7b810d16-fd0e-474e-8b2f-7d640d596104",
   "metadata": {},
   "outputs": [],
   "source": [
    "from sklearn.model_selection import train_test_split"
   ]
  },
  {
   "cell_type": "code",
   "execution_count": null,
   "id": "435961e7-f77a-477c-bd95-543af2781e91",
   "metadata": {},
   "outputs": [],
   "source": []
  },
  {
   "cell_type": "code",
   "execution_count": 240,
   "id": "a6c6fcb3-f905-48b7-b107-d93c6c5a2a37",
   "metadata": {},
   "outputs": [
    {
     "data": {
      "text/plain": [
       "((825, 10), (275, 10))"
      ]
     },
     "execution_count": 240,
     "metadata": {},
     "output_type": "execute_result"
    }
   ],
   "source": [
    "\n",
    "\n",
    "X_train,X_test,Y_train,Y_test=train_test_split(x,y,test_size=0.25,random_state=50)\n",
    "X_train.shape,X_test.shape"
   ]
  },
  {
   "cell_type": "code",
   "execution_count": 241,
   "id": "caf0d787-3a51-495c-8516-25361c80a4f8",
   "metadata": {},
   "outputs": [
    {
     "name": "stderr",
     "output_type": "stream",
     "text": [
      "C:\\anaconda file\\Lib\\site-packages\\sklearn\\utils\\validation.py:1143: DataConversionWarning: A column-vector y was passed when a 1d array was expected. Please change the shape of y to (n_samples, ), for example using ravel().\n",
      "  y = column_or_1d(y, warn=True)\n"
     ]
    }
   ],
   "source": [
    "## Importing the Logistic Regression Algorithm as this is a classification problem\n",
    "\n",
    "from sklearn.linear_model import LogisticRegression\n",
    "lr=LogisticRegression()\n",
    "\n",
    "log =LogisticRegression()\n",
    "log.fit(X_train,Y_train)\n",
    "pred=log.predict(X_test)"
   ]
  },
  {
   "cell_type": "code",
   "execution_count": 242,
   "id": "f2586ee9-f8f2-4945-9ef6-2e10506c36a2",
   "metadata": {},
   "outputs": [
    {
     "name": "stdout",
     "output_type": "stream",
     "text": [
      "[[109  27]\n",
      " [ 33 106]]\n"
     ]
    }
   ],
   "source": [
    "from sklearn.metrics import confusion_matrix,accuracy_score,classification_report\n",
    "print(confusion_matrix(Y_test,pred))"
   ]
  },
  {
   "cell_type": "code",
   "execution_count": 243,
   "id": "fca9f05d-e3a3-4fc9-8cbd-05c4c6159075",
   "metadata": {},
   "outputs": [
    {
     "name": "stdout",
     "output_type": "stream",
     "text": [
      "0.7818181818181819\n"
     ]
    }
   ],
   "source": [
    "from sklearn.metrics import accuracy_score, precision_score, recall_score\n",
    "print(accuracy_score(Y_test,pred))"
   ]
  },
  {
   "cell_type": "code",
   "execution_count": 244,
   "id": "a99f98cd-0c04-4475-a573-91da6514dadd",
   "metadata": {},
   "outputs": [
    {
     "name": "stdout",
     "output_type": "stream",
     "text": [
      "              precision    recall  f1-score   support\n",
      "\n",
      "           0       0.77      0.80      0.78       136\n",
      "           1       0.80      0.76      0.78       139\n",
      "\n",
      "    accuracy                           0.78       275\n",
      "   macro avg       0.78      0.78      0.78       275\n",
      "weighted avg       0.78      0.78      0.78       275\n",
      "\n"
     ]
    }
   ],
   "source": [
    "print(classification_report(Y_test,pred))"
   ]
  },
  {
   "cell_type": "code",
   "execution_count": 245,
   "id": "0996347d-b9df-4bf9-815e-e42ff4b7ea8a",
   "metadata": {},
   "outputs": [],
   "source": [
    "###   DecisionTreeClassifier  #####"
   ]
  },
  {
   "cell_type": "code",
   "execution_count": 246,
   "id": "d210fffc-d5ee-4339-b642-78ddf7063e32",
   "metadata": {},
   "outputs": [],
   "source": [
    "from sklearn.tree import DecisionTreeClassifier"
   ]
  },
  {
   "cell_type": "code",
   "execution_count": 247,
   "id": "6e968fff-a484-41f4-9230-6cb48162a415",
   "metadata": {},
   "outputs": [],
   "source": [
    "dt = DecisionTreeClassifier()\n",
    "\n",
    "dt.fit(X_train, Y_train)\n",
    "\n",
    "pred = dt.predict(X_test)"
   ]
  },
  {
   "cell_type": "code",
   "execution_count": 248,
   "id": "26adcfc3-3d47-4b27-b20f-130eab508d1c",
   "metadata": {},
   "outputs": [
    {
     "name": "stdout",
     "output_type": "stream",
     "text": [
      "[[114  22]\n",
      " [ 21 118]]\n"
     ]
    }
   ],
   "source": [
    "print(confusion_matrix(Y_test,pred))"
   ]
  },
  {
   "cell_type": "code",
   "execution_count": 249,
   "id": "c5c4f446-f9f8-4b2e-bbbc-fecf63ee1f15",
   "metadata": {},
   "outputs": [
    {
     "name": "stdout",
     "output_type": "stream",
     "text": [
      "0.8436363636363636\n",
      "              precision    recall  f1-score   support\n",
      "\n",
      "           0       0.84      0.84      0.84       136\n",
      "           1       0.84      0.85      0.85       139\n",
      "\n",
      "    accuracy                           0.84       275\n",
      "   macro avg       0.84      0.84      0.84       275\n",
      "weighted avg       0.84      0.84      0.84       275\n",
      "\n"
     ]
    }
   ],
   "source": [
    "print(accuracy_score(Y_test,pred))\n",
    "print(classification_report(Y_test,pred))"
   ]
  },
  {
   "cell_type": "code",
   "execution_count": 250,
   "id": "036b01c8-1f84-4ada-8351-b550e3515ce3",
   "metadata": {},
   "outputs": [],
   "source": [
    "####   Random Forest Classifier   ######"
   ]
  },
  {
   "cell_type": "code",
   "execution_count": 251,
   "id": "68ae724a-fbb7-467f-bbf7-dce4af256809",
   "metadata": {},
   "outputs": [],
   "source": [
    "from sklearn.ensemble import RandomForestClassifier"
   ]
  },
  {
   "cell_type": "code",
   "execution_count": 252,
   "id": "1df444d7-1617-4cae-9e53-55eb53ee0248",
   "metadata": {},
   "outputs": [
    {
     "name": "stderr",
     "output_type": "stream",
     "text": [
      "C:\\Users\\shrik\\AppData\\Local\\Temp\\ipykernel_14308\\2952173223.py:2: DataConversionWarning: A column-vector y was passed when a 1d array was expected. Please change the shape of y to (n_samples,), for example using ravel().\n",
      "  rf.fit(X_train,Y_train)\n"
     ]
    }
   ],
   "source": [
    "\n",
    "rf=RandomForestClassifier()\n",
    "rf.fit(X_train,Y_train)\n",
    "pred=rf.predict(X_test)"
   ]
  },
  {
   "cell_type": "code",
   "execution_count": 253,
   "id": "11162af3-92cf-420e-a48b-2723f844bd20",
   "metadata": {},
   "outputs": [],
   "source": [
    "#confusion_matrix, accuracy_score, classification_report,roc_curve"
   ]
  },
  {
   "cell_type": "code",
   "execution_count": 254,
   "id": "930168d0-e7a0-4d48-8263-85a62de22c63",
   "metadata": {},
   "outputs": [
    {
     "name": "stdout",
     "output_type": "stream",
     "text": [
      "confusion_matrix :\n",
      "[[122  14]\n",
      " [ 16 123]]\n"
     ]
    }
   ],
   "source": [
    "print(\"confusion_matrix :\")\n",
    "print(confusion_matrix(Y_test,pred))"
   ]
  },
  {
   "cell_type": "code",
   "execution_count": 255,
   "id": "46ec089d-642e-448a-ab80-d0bf7aca5ca3",
   "metadata": {},
   "outputs": [
    {
     "name": "stdout",
     "output_type": "stream",
     "text": [
      "accuracy_score :\n",
      "0.8909090909090909\n"
     ]
    }
   ],
   "source": [
    "print(\"accuracy_score :\")\n",
    "print(accuracy_score(Y_test,pred))"
   ]
  },
  {
   "cell_type": "code",
   "execution_count": 256,
   "id": "d9bcf281-3dfe-4504-b6e8-721e8a88bc7c",
   "metadata": {},
   "outputs": [
    {
     "name": "stdout",
     "output_type": "stream",
     "text": [
      "classification_report :\n",
      "              precision    recall  f1-score   support\n",
      "\n",
      "           0       0.88      0.90      0.89       136\n",
      "           1       0.90      0.88      0.89       139\n",
      "\n",
      "    accuracy                           0.89       275\n",
      "   macro avg       0.89      0.89      0.89       275\n",
      "weighted avg       0.89      0.89      0.89       275\n",
      "\n"
     ]
    }
   ],
   "source": [
    "print(\"classification_report :\")\n",
    "print(classification_report(Y_test,pred))"
   ]
  },
  {
   "cell_type": "code",
   "execution_count": 257,
   "id": "9a0174af-48ea-48c3-886c-b64e4a5e05c0",
   "metadata": {},
   "outputs": [
    {
     "name": "stdout",
     "output_type": "stream",
     "text": [
      "roc_curve :\n",
      "(array([0.        , 0.10294118, 1.        ]), array([0.        , 0.88489209, 1.        ]), array([2, 1, 0]))\n"
     ]
    }
   ],
   "source": [
    "print(\"roc_curve :\")\n",
    "print(roc_curve(Y_test,pred))"
   ]
  },
  {
   "cell_type": "code",
   "execution_count": 258,
   "id": "7d138a31-7cdc-47d7-a9fa-59222c51992e",
   "metadata": {},
   "outputs": [
    {
     "name": "stdout",
     "output_type": "stream",
     "text": [
      "0.8909754549301736\n"
     ]
    }
   ],
   "source": [
    "\n",
    "print(roc_auc_score(Y_test,pred))"
   ]
  },
  {
   "cell_type": "code",
   "execution_count": 259,
   "id": "ac51c993-537d-4dc8-abab-645e2a7cbb05",
   "metadata": {},
   "outputs": [],
   "source": [
    "cm=confusion_matrix(Y_test, pred)"
   ]
  },
  {
   "cell_type": "code",
   "execution_count": 260,
   "id": "3a1cb561-17bb-4c34-8587-ba525fbd3ae5",
   "metadata": {},
   "outputs": [
    {
     "data": {
      "text/plain": [
       "array([[122,  14],\n",
       "       [ 16, 123]], dtype=int64)"
      ]
     },
     "execution_count": 260,
     "metadata": {},
     "output_type": "execute_result"
    }
   ],
   "source": [
    "cm  "
   ]
  },
  {
   "cell_type": "code",
   "execution_count": 261,
   "id": "cde2eea8-cb8a-4a87-bc74-9c31a8713417",
   "metadata": {},
   "outputs": [],
   "source": [
    "from sklearn.metrics import roc_auc_score\n",
    "from sklearn.metrics import roc_curve\n"
   ]
  },
  {
   "cell_type": "code",
   "execution_count": 262,
   "id": "d5b3e4e8-d63d-4d7c-8a00-b18ed2676fa4",
   "metadata": {},
   "outputs": [
    {
     "data": {
      "image/png": "[encoded data removed]",
      "text/plain": [
       "<Figure size 640x480 with 1 Axes>"
      ]
     },
     "metadata": {},
     "output_type": "display_data"
    }
   ],
   "source": [
    "FPR,TPR,_=roc_curve(Y_test,pred)\n",
    "plt.plot(FPR,TPR)\n",
    "plt.ylabel('True Positive Rate')\n",
    "plt.xlabel('False Positive Rate')\n",
    "plt.title('Random Forest Classifier')\n",
    "plt.show()"
   ]
  },
  {
   "cell_type": "code",
   "execution_count": null,
   "id": "7083067c-0492-4c33-91fb-c5fbe586170d",
   "metadata": {},
   "outputs": [],
   "source": []
  },
  {
   "cell_type": "code",
   "execution_count": 263,
   "id": "d1234ff2-0bf3-4746-a42b-172821ee15f7",
   "metadata": {},
   "outputs": [
    {
     "data": {
      "image/png": "[encoded data removed]",
      "text/plain": [
       "<Figure size 640x480 with 2 Axes>"
      ]
     },
     "metadata": {},
     "output_type": "display_data"
    },
    {
     "data": {
      "image/png": "[encoded data removed]",
      "text/plain": [
       "<Figure size 1000x500 with 1 Axes>"
      ]
     },
     "metadata": {},
     "output_type": "display_data"
    }
   ],
   "source": [
    "sns.heatmap(confusion_matrix(Y_test, pred), annot=True)\n",
    "plt.xlabel('Predicted')\n",
    "plt.ylabel('Ground Truth')\n",
    "\n",
    "auc = roc_auc_score(Y_test, pred)\n",
    "fpr, tpr, thresolds = roc_curve(Y_test,pred)\n",
    "plt.figure(figsize=(10, 5))\n",
    "plt.axis('scaled')\n",
    "plt.xlim([0, 1])\n",
    "plt.ylim([0, 1])\n",
    "plt.title(\"AUC, ROC Curve\")\n",
    "plt.plot(fpr, tpr)\n",
    "plt.fill_between(fpr, tpr, facecolor='red')\n",
    "plt.text(0.95, 0.05, 'AUC = %0.4f' % auc, ha='right', fontsize=10)\n",
    "plt.xlabel(\"False Positive Rate\")\n",
    "plt.ylabel(\"True Positive Rate\")\n",
    "plt.show()"
   ]
  },
  {
   "cell_type": "code",
   "execution_count": null,
   "id": "1609f333-4a0b-42a4-9b0a-fc13b640bdd3",
   "metadata": {},
   "outputs": [],
   "source": []
  },
  {
   "cell_type": "code",
   "execution_count": null,
   "id": "0b2b38f3-477d-4c7a-9320-f25ad8029688",
   "metadata": {},
   "outputs": [],
   "source": []
  }
 ],
 "metadata": {
  "kernelspec": {
   "display_name": "Python 3 (ipykernel)",
   "language": "python",
   "name": "python3"
  },
  "language_info": {
   "codemirror_mode": {
    "name": "ipython",
    "version": 3
   },
   "file_extension": ".py",
   "mimetype": "text/x-python",
   "name": "python",
   "nbconvert_exporter": "python",
   "pygments_lexer": "ipython3",
   "version": "3.11.7"
  }
 },
 "nbformat": 4,
 "nbformat_minor": 5
}
